{
 "cells": [
  {
   "cell_type": "markdown",
   "id": "88b63181c563a666",
   "metadata": {},
   "source": [
    "# Web Scraping Exercise\n",
    "\n",
    "## 1. Introduction and Planning\n",
    "\n",
    "### Objective:\n",
    "The goal of this exercise is to build a web scraper that collects data from a chosen website. You will learn how to send HTTP requests, parse HTML content, extract relevant data, and store it in a structured format.\n",
    "\n",
    "### Tasks:\n",
    "1. Identify the data you want to scrape.\n",
    "2. Choose the target website(s).\n",
    "3. Plan the structure of your project.\n",
    "\n",
    "### Example:\n",
    "For this exercise, we will scrape job listings from Indeed.com. We will extract job titles, company names, locations, and job descriptions."
   ]
  },
  {
   "cell_type": "markdown",
   "id": "477cce632174e459",
   "metadata": {},
   "source": [
    "## 2. Understanding the Target Website\n",
    "### Objective:\n",
    "\n",
    "Analyze the structure of the web pages to be scraped.\n",
    "### Tasks:\n",
    "\n",
    "* Inspect the target website using browser developer tools.\n",
    "* Identify the HTML elements that contain the desired data.\n",
    "\n",
    "### Instructions:\n",
    "\n",
    "* Open your browser and navigate to the target website (e.g., Indeed.com).\n",
    "* Right-click on the webpage and select \"Inspect\" or press Ctrl+Shift+I.\n",
    "* Use the developer tools to explore the HTML structure of the webpage.\n",
    "* Identify the tags and classes of the elements that contain the job titles, company names, locations, and descriptions."
   ]
  },
  {
   "cell_type": "markdown",
   "id": "393d4bc45393e6b5",
   "metadata": {},
   "source": [
    "## 3. Writing the Scraper\n",
    "### Objective:\n",
    "\n",
    "Develop the code to scrape data from the target website.\n",
    "### Tasks:\n",
    "\n",
    "* Send HTTP requests to the target website.\n",
    "* Parse the HTML content and extract the required data.\n",
    "* Handle pagination to scrape data from multiple pages.\n",
    "* Implement error handling."
   ]
  },
  {
   "cell_type": "code",
   "execution_count": 1,
   "id": "f80ff437",
   "metadata": {},
   "outputs": [],
   "source": [
    "from IPython.display import display"
   ]
  },
  {
   "cell_type": "code",
   "execution_count": 2,
   "id": "9fb1593ad4d918f9",
   "metadata": {
    "ExecuteTime": {
     "end_time": "2024-07-11T04:59:07.772034Z",
     "start_time": "2024-07-11T04:59:07.600415Z"
    }
   },
   "outputs": [],
   "source": [
    "from bs4 import BeautifulSoup\n",
    "import pandas as pd\n",
    "import requests\n",
    "from tqdm import tqdm\n"
   ]
  },
  {
   "cell_type": "code",
   "execution_count": 3,
   "id": "a6c02dd3",
   "metadata": {},
   "outputs": [],
   "source": [
    "headers = {\n",
    "    \"User-Agent\": \"My Python App\"\n",
    "}\n"
   ]
  },
  {
   "cell_type": "code",
   "execution_count": 4,
   "id": "e24d40b5",
   "metadata": {},
   "outputs": [],
   "source": [
    "file_path = r\"C:\\Users\\Ronny Amores\\Desktop\\EPN\\Octavo\\RI\\Deberes\\Deberes_IIB\\Webcrawling\\Recipes A-Z _ Allrecipes.com.html\"\n",
    "\n",
    "with open(file_path, \"r\", encoding=\"utf-8\") as file:\n",
    "    html_content = file.read()\n",
    "\n",
    "soup = BeautifulSoup(html_content, \"html.parser\")\n"
   ]
  },
  {
   "cell_type": "code",
   "execution_count": 5,
   "id": "4c1b040d",
   "metadata": {},
   "outputs": [],
   "source": [
    "def obtenerLinks(htmlLinks):\n",
    "    totalLinks = []\n",
    "    for itemLink in htmlLinks.find_all(\"a\", class_=\"mntl-card-list-items\"):\n",
    "        if itemLink.has_attr('href'):\n",
    "            totalLinks.append(itemLink['href'])\n",
    "    return totalLinks\n"
   ]
  },
  {
   "cell_type": "code",
   "execution_count": 6,
   "id": "91ba5d29",
   "metadata": {},
   "outputs": [],
   "source": [
    "def obtenerTitulo(HtmlTitulo):\n",
    "    titulorespuesta = []\n",
    "    for tituloreceta in HtmlTitulo:\n",
    "        titulorespuesta.append(tituloreceta.find(\"title\").text)\n",
    "    return titulorespuesta\n"
   ]
  },
  {
   "cell_type": "code",
   "execution_count": 7,
   "id": "0f65963d",
   "metadata": {},
   "outputs": [],
   "source": [
    "def descripcionReceta(HTMLReceta):\n",
    "    respuestaDescripcion = []\n",
    "    for descripcionReceta in HTMLReceta:\n",
    "        try:\n",
    "            resp = descripcionReceta.find(\"div\", class_=\"summary_text\").text.strip()\n",
    "            respuestaDescripcion.append(resp)\n",
    "        except AttributeError:\n",
    "            respuestaDescripcion.append(\"\")\n",
    "    return respuestaDescripcion\n"
   ]
  },
  {
   "cell_type": "code",
   "execution_count": 8,
   "id": "d81eb453",
   "metadata": {},
   "outputs": [],
   "source": [
    "def ingredientesReceta(HTMLIngrediente):\n",
    "    ingredientes = []\n",
    "    for ingredienteItem in HTMLIngrediente:\n",
    "        respuestaIngredientes = ''\n",
    "        for item in ingredienteItem.find_all(\"span\", class_=\"ingredients-item-name\"):\n",
    "            respuestaIngredientes += item.text.strip() + '\\n'\n",
    "        ingredientes.append(respuestaIngredientes)\n",
    "    return ingredientes\n"
   ]
  },
  {
   "cell_type": "code",
   "execution_count": 9,
   "id": "7913a782",
   "metadata": {},
   "outputs": [],
   "source": [
    "def instruccionesReceta(HTMLPasos):\n",
    "    instrucciones = []\n",
    "    for pasosItem in HTMLPasos:\n",
    "        respuestaInstrucciones = ''\n",
    "        for itemPaso in pasosItem.find_all(\"span\", class_=\"recipe-directions__list--item\"):\n",
    "            respuestaInstrucciones += itemPaso.text.strip() + '\\n'\n",
    "        instrucciones.append(respuestaInstrucciones)\n",
    "    return instrucciones\n"
   ]
  },
  {
   "cell_type": "code",
   "execution_count": 10,
   "id": "fbaa4c6d",
   "metadata": {},
   "outputs": [],
   "source": [
    "headers = {\n",
    "    \"User-Agent\": \"My Python App\"\n",
    "}\n"
   ]
  },
  {
   "cell_type": "code",
   "execution_count": 11,
   "id": "2ff33b21",
   "metadata": {},
   "outputs": [],
   "source": [
    "def responseURL(urlresponse, headers, timeout=10):\n",
    "    html_content = []\n",
    "    for url1 in tqdm(urlresponse, \"Progreso\"):\n",
    "        try:\n",
    "            response = requests.get(url1, headers=headers, timeout=timeout)\n",
    "            htmltext = response.text\n",
    "            html_content.append(BeautifulSoup(htmltext, \"html.parser\"))\n",
    "        except requests.Timeout:\n",
    "            print(f\"Timeout occurred for URL: {url1}\")\n",
    "        except requests.RequestException as e:\n",
    "            print(f\"Request failed for URL: {url1} with exception: {e}\")\n",
    "    return html_content\n"
   ]
  },
  {
   "cell_type": "code",
   "execution_count": 13,
   "id": "5dcd9f7e",
   "metadata": {},
   "outputs": [
    {
     "name": "stdout",
     "output_type": "stream",
     "text": [
      "Enlaces obtenidos: []\n"
     ]
    },
    {
     "data": {
      "text/html": [
       "<div>\n",
       "<style scoped>\n",
       "    .dataframe tbody tr th:only-of-type {\n",
       "        vertical-align: middle;\n",
       "    }\n",
       "\n",
       "    .dataframe tbody tr th {\n",
       "        vertical-align: top;\n",
       "    }\n",
       "\n",
       "    .dataframe thead th {\n",
       "        text-align: right;\n",
       "    }\n",
       "</style>\n",
       "<table border=\"1\" class=\"dataframe\">\n",
       "  <thead>\n",
       "    <tr style=\"text-align: right;\">\n",
       "      <th></th>\n",
       "      <th>Enlaces</th>\n",
       "    </tr>\n",
       "  </thead>\n",
       "  <tbody>\n",
       "  </tbody>\n",
       "</table>\n",
       "</div>"
      ],
      "text/plain": [
       "Empty DataFrame\n",
       "Columns: [Enlaces]\n",
       "Index: []"
      ]
     },
     "metadata": {},
     "output_type": "display_data"
    },
    {
     "name": "stderr",
     "output_type": "stream",
     "text": [
      "Progreso: 0it [00:00, ?it/s]\n"
     ]
    },
    {
     "data": {
      "text/html": [
       "<div>\n",
       "<style scoped>\n",
       "    .dataframe tbody tr th:only-of-type {\n",
       "        vertical-align: middle;\n",
       "    }\n",
       "\n",
       "    .dataframe tbody tr th {\n",
       "        vertical-align: top;\n",
       "    }\n",
       "\n",
       "    .dataframe thead th {\n",
       "        text-align: right;\n",
       "    }\n",
       "</style>\n",
       "<table border=\"1\" class=\"dataframe\">\n",
       "  <thead>\n",
       "    <tr style=\"text-align: right;\">\n",
       "      <th></th>\n",
       "      <th>Titulo</th>\n",
       "    </tr>\n",
       "  </thead>\n",
       "  <tbody>\n",
       "  </tbody>\n",
       "</table>\n",
       "</div>"
      ],
      "text/plain": [
       "Empty DataFrame\n",
       "Columns: [Titulo]\n",
       "Index: []"
      ]
     },
     "metadata": {},
     "output_type": "display_data"
    },
    {
     "data": {
      "text/html": [
       "<div>\n",
       "<style scoped>\n",
       "    .dataframe tbody tr th:only-of-type {\n",
       "        vertical-align: middle;\n",
       "    }\n",
       "\n",
       "    .dataframe tbody tr th {\n",
       "        vertical-align: top;\n",
       "    }\n",
       "\n",
       "    .dataframe thead th {\n",
       "        text-align: right;\n",
       "    }\n",
       "</style>\n",
       "<table border=\"1\" class=\"dataframe\">\n",
       "  <thead>\n",
       "    <tr style=\"text-align: right;\">\n",
       "      <th></th>\n",
       "      <th>Descripcion</th>\n",
       "    </tr>\n",
       "  </thead>\n",
       "  <tbody>\n",
       "  </tbody>\n",
       "</table>\n",
       "</div>"
      ],
      "text/plain": [
       "Empty DataFrame\n",
       "Columns: [Descripcion]\n",
       "Index: []"
      ]
     },
     "metadata": {},
     "output_type": "display_data"
    },
    {
     "data": {
      "text/html": [
       "<div>\n",
       "<style scoped>\n",
       "    .dataframe tbody tr th:only-of-type {\n",
       "        vertical-align: middle;\n",
       "    }\n",
       "\n",
       "    .dataframe tbody tr th {\n",
       "        vertical-align: top;\n",
       "    }\n",
       "\n",
       "    .dataframe thead th {\n",
       "        text-align: right;\n",
       "    }\n",
       "</style>\n",
       "<table border=\"1\" class=\"dataframe\">\n",
       "  <thead>\n",
       "    <tr style=\"text-align: right;\">\n",
       "      <th></th>\n",
       "      <th>Ingredientes</th>\n",
       "    </tr>\n",
       "  </thead>\n",
       "  <tbody>\n",
       "  </tbody>\n",
       "</table>\n",
       "</div>"
      ],
      "text/plain": [
       "Empty DataFrame\n",
       "Columns: [Ingredientes]\n",
       "Index: []"
      ]
     },
     "metadata": {},
     "output_type": "display_data"
    },
    {
     "data": {
      "text/html": [
       "<div>\n",
       "<style scoped>\n",
       "    .dataframe tbody tr th:only-of-type {\n",
       "        vertical-align: middle;\n",
       "    }\n",
       "\n",
       "    .dataframe tbody tr th {\n",
       "        vertical-align: top;\n",
       "    }\n",
       "\n",
       "    .dataframe thead th {\n",
       "        text-align: right;\n",
       "    }\n",
       "</style>\n",
       "<table border=\"1\" class=\"dataframe\">\n",
       "  <thead>\n",
       "    <tr style=\"text-align: right;\">\n",
       "      <th></th>\n",
       "      <th>Instrucciones</th>\n",
       "    </tr>\n",
       "  </thead>\n",
       "  <tbody>\n",
       "  </tbody>\n",
       "</table>\n",
       "</div>"
      ],
      "text/plain": [
       "Empty DataFrame\n",
       "Columns: [Instrucciones]\n",
       "Index: []"
      ]
     },
     "metadata": {},
     "output_type": "display_data"
    }
   ],
   "source": [
    "# Obtener enlaces de las recetas\n",
    "linksHtml = obtenerLinks(soup)\n",
    "print(\"Enlaces obtenidos:\", linksHtml)\n",
    "\n",
    "# Crear DataFrame intermedio para ver los enlaces\n",
    "df_links = pd.DataFrame({'Enlaces': linksHtml})\n",
    "display(df_links)\n",
    "\n",
    "# Obtener el contenido HTML de cada enlace\n",
    "HTMLrecetas = responseURL(linksHtml, headers)\n",
    "\n",
    "# Obtener los datos de las recetas\n",
    "titulo_receta = obtenerTitulo(HTMLrecetas)\n",
    "descripcion = descripcionReceta(HTMLrecetas)\n",
    "ingredientes = ingredientesReceta(HTMLrecetas)\n",
    "instrucciones = instruccionesReceta(HTMLrecetas)\n",
    "\n",
    "# Crear DataFrame intermedio para ver los datos extraídos\n",
    "df_titulos = pd.DataFrame({'Titulo': titulo_receta})\n",
    "df_descripciones = pd.DataFrame({'Descripcion': descripcion})\n",
    "df_ingredientes = pd.DataFrame({'Ingredientes': ingredientes})\n",
    "df_instrucciones = pd.DataFrame({'Instrucciones': instrucciones})\n",
    "\n",
    "display(df_titulos)\n",
    "display(df_descripciones)\n",
    "display(df_ingredientes)\n",
    "display(df_instrucciones)\n",
    "\n",
    "# Crear un DataFrame final con los datos obtenidos\n",
    "recetas = pd.DataFrame({\n",
    "    'Titulo': titulo_receta,\n",
    "    'Descripcion': descripcion,\n",
    "    'Ingredientes': ingredientes,\n",
    "    'Instrucciones': instrucciones\n",
    "})\n",
    "\n",
    "# Limpiar el DataFrame\n",
    "recetas = recetas.dropna()\n",
    "\n",
    "# Guardar el DataFrame en un archivo CSV y Excel\n",
    "recetas.to_csv('Recetas.csv', index=False)\n",
    "\n",
    "# Asegurarse de que el módulo openpyxl esté instalado\n",
    "try:\n",
    "    import openpyxl\n",
    "    recetas.to_excel('Recetas.xlsx', index=False)\n",
    "except ImportError:\n",
    "    print(\"El módulo 'openpyxl' no está instalado. Ejecute 'pip install openpyxl' para instalarlo.\")\n"
   ]
  }
 ],
 "metadata": {
  "kernelspec": {
   "display_name": "Python 3",
   "language": "python",
   "name": "python3"
  },
  "language_info": {
   "codemirror_mode": {
    "name": "ipython",
    "version": 3
   },
   "file_extension": ".py",
   "mimetype": "text/x-python",
   "name": "python",
   "nbconvert_exporter": "python",
   "pygments_lexer": "ipython3",
   "version": "3.9.10"
  }
 },
 "nbformat": 4,
 "nbformat_minor": 5
}
